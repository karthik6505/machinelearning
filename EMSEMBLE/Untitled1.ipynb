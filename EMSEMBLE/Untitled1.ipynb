{
 "metadata": {
  "name": "",
  "signature": "sha256:120c83f4e8710efb6a2e8e63bff8431a6490ac9e33e5a351fb53441bd5576fae"
 },
 "nbformat": 3,
 "nbformat_minor": 0,
 "worksheets": [
  {
   "cells": [
    {
     "cell_type": "code",
     "collapsed": false,
     "input": [
      "import numpy as np\n"
     ],
     "language": "python",
     "metadata": {},
     "outputs": [],
     "prompt_number": 1
    },
    {
     "cell_type": "code",
     "collapsed": false,
     "input": [
      "from sklearn import preprocessing"
     ],
     "language": "python",
     "metadata": {},
     "outputs": [],
     "prompt_number": 2
    },
    {
     "cell_type": "code",
     "collapsed": false,
     "input": [
      "X = [1, 2, 3]"
     ],
     "language": "python",
     "metadata": {},
     "outputs": [],
     "prompt_number": 3
    },
    {
     "cell_type": "code",
     "collapsed": false,
     "input": [
      "print X"
     ],
     "language": "python",
     "metadata": {},
     "outputs": [
      {
       "output_type": "stream",
       "stream": "stdout",
       "text": [
        "[1, 2, 3]\n"
       ]
      }
     ],
     "prompt_number": 4
    },
    {
     "cell_type": "code",
     "collapsed": false,
     "input": [
      "import nltk"
     ],
     "language": "python",
     "metadata": {},
     "outputs": [],
     "prompt_number": 5
    },
    {
     "cell_type": "code",
     "collapsed": false,
     "input": [
      "import re\n",
      "p = re.compile( '\\d\\d\\d\\w\\w\\s\\w\\w', re.DOTALL)"
     ],
     "language": "python",
     "metadata": {},
     "outputs": [],
     "prompt_number": 6
    },
    {
     "cell_type": "code",
     "collapsed": false,
     "input": [
      "a = '1234a aa'\n",
      "p.findall(a)"
     ],
     "language": "python",
     "metadata": {},
     "outputs": [
      {
       "metadata": {},
       "output_type": "pyout",
       "prompt_number": 7,
       "text": [
        "['1234a aa']"
       ]
      }
     ],
     "prompt_number": 7
    },
    {
     "cell_type": "code",
     "collapsed": false,
     "input": [
      "\"\"\"\n",
      "=======================================\n",
      "Receiver Operating Characteristic (ROC)\n",
      "=======================================\n",
      "\n",
      "Example of Receiver Operating Characteristic (ROC) metric to evaluate\n",
      "classifier output quality.\n",
      "\n",
      "ROC curves typically feature true positive rate on the Y axis, and false\n",
      "positive rate on the X axis. This means that the top left corner of the plot is\n",
      "the \"ideal\" point - a false positive rate of zero, and a true positive rate of\n",
      "one. This is not very realistic, but it does mean that a larger area under the\n",
      "curve (AUC) is usually better.\n",
      "\n",
      "The \"steepness\" of ROC curves is also important, since it is ideal to maximize\n",
      "the true positive rate while minimizing the false positive rate.\n",
      "\n",
      "ROC curves are typically used in binary classification to study the output of\n",
      "a classifier. In order to extend ROC curve and ROC area to multi-class\n",
      "or multi-label classification, it is necessary to binarize the output. One ROC\n",
      "curve can be drawn per label, but one can also draw a ROC curve by considering\n",
      "each element of the label indicator matrix as a binary prediction\n",
      "(micro-averaging).\n",
      "\n",
      ".. note::\n",
      "\n",
      "    See also :func:`sklearn.metrics.roc_auc_score`,\n",
      "             :ref:`example_plot_roc_crossval.py`.\n",
      "\n",
      "\"\"\"\n",
      "print(__doc__)\n",
      "\n",
      "import numpy as np\n",
      "import matplotlib.pyplot as plt\n",
      "from sklearn import svm, datasets\n",
      "from sklearn.metrics import roc_curve, auc\n",
      "from sklearn.cross_validation import train_test_split\n",
      "from sklearn.preprocessing import label_binarize\n",
      "from sklearn.multiclass import OneVsRestClassifier\n",
      "\n",
      "\n",
      "def roc( X, y, clf, n=2, cname=\"\", idx=\"0\", debug=0 ):\n",
      "    # Learn to predict each class against the other\n",
      "    classifier = OneVsRestClassifier(clf)\n",
      "    proba_estimates = [ x for x in dir(classifier) if \"predict_proba\" in x ]\n",
      "    if not proba_estimates:\n",
      "        return None\n",
      "\n",
      "    # Binarize the output\n",
      "    # y = label_binarize(y, classes=[0, 1, 2])\n",
      "    y = label_binarize(y, classes=range(n))\n",
      "    n_classes = y.shape[1]\n",
      "    \n",
      "    # Add noisy features to make the problem harder\n",
      "    # random_state = np.random.RandomState(0)\n",
      "    n_samples, n_features = X.shape\n",
      "    # X = np.c_[X, random_state.randn(n_samples, 200 * n_features)]\n",
      "    \n",
      "    # just for now, shuffle and split training and test sets\n",
      "    X_train, X_test, y_train, y_test = train_test_split(X, y, test_size=.4, random_state=0)\n",
      "    \n",
      "    y_score = classifier.fit(X_train, y_train).decision_function(X_test)\n",
      "    \n",
      "    # Compute ROC curve and ROC area for each class\n",
      "    fpr = dict()\n",
      "    tpr = dict()\n",
      "    roc_auc = dict()\n",
      "    for i in range(n_classes):\n",
      "        try:\n",
      "            fpr[i], tpr[i], _ = roc_curve(y_test[:, i], y_score[:, i])\n",
      "        except:\n",
      "            return None\n",
      "        roc_auc[i] = auc(fpr[i], tpr[i])\n",
      "        if debug:\n",
      "            print '-'  * 80\n",
      "            print i, fpr[i]\n",
      "            print '-'  * 80\n",
      "            print i, tpr[i]\n",
      "            print '-'  * 80\n",
      "    \n",
      "    # Compute micro-average ROC curve and ROC area\n",
      "    fpr[\"micro\"], tpr[\"micro\"], _ = roc_curve(y_test.ravel(), y_score.ravel())\n",
      "    roc_auc[\"micro\"] = auc(fpr[\"micro\"], tpr[\"micro\"])\n",
      "    \n",
      "    # Plot of a ROC curve for a specific class\n",
      "    # plt.figure()\n",
      "    # plt.plot(fpr[2], tpr[2], label='ROC curve (area = %0.2f)' % roc_auc[2])\n",
      "    # plt.plot([0, 1], [0, 1], 'k--')\n",
      "    # plt.xlim([-0.05, 1.0])\n",
      "    # plt.ylim([0.0, 1.05])\n",
      "    # plt.xlabel('False Positive Rate')\n",
      "    # plt.ylabel('True Positive Rate')\n",
      "    # plt.title('Receiver operating characteristic example')\n",
      "    # plt.legend(loc=\"lower right\")\n",
      "    # plt.show()\n",
      "    \n",
      "    # Plot ROC curve\n",
      "    roc_fig = plt.figure(int(idx), figsize=(6,6))\n",
      "    plt.plot(fpr[\"micro\"], tpr[\"micro\"], label='micro-average ROC curve (area = {0:0.2f})' ''.format(roc_auc[\"micro\"]))\n",
      "    for i in range(n_classes):\n",
      "        plt.plot(fpr[i], tpr[i], label='ROC curve of class {0} (area = {1:0.2f})' ''.format(i, roc_auc[i]))\n",
      "    plt.plot([0, 1], [0, 1], 'k--')\n",
      "    plt.xlim([-0.05, 1.0])\n",
      "    plt.ylim([0.0, 1.05])\n",
      "    plt.xlabel('False Positive Rate')\n",
      "    plt.ylabel('True Positive Rate')\n",
      "    plt.title('Some extension of Receiver operating characteristic to multi-class')\n",
      "    plt.legend(loc=\"lower right\")\n",
      "\n",
      "    if not cname:\n",
      "        roc_fig.show()\n",
      "    else:\n",
      "        roc_fig.savefig( \"roc_%s_subplot_%s.pdf\" % (cname, idx) )\n",
      "        return roc_fig \n",
      "\n",
      "\n",
      "if __name__ == \"__main__\":\n",
      "    # Import some data to play with\n",
      "    iris = datasets.load_iris()\n",
      "    X = iris.data\n",
      "    y = iris.target\n",
      "\n",
      "    clf = svm.SVC(kernel='linear', probability=True )\n",
      "    # clf = svm.SVC(kernel='rbf', probability=True )\n",
      "\n",
      "    roc( X, y, clf, cname=\"roc\" )\n",
      "    roc( X, y, clf )\n"
     ],
     "language": "python",
     "metadata": {},
     "outputs": [
      {
       "output_type": "stream",
       "stream": "stdout",
       "text": [
        "\n",
        "=======================================\n",
        "Receiver Operating Characteristic (ROC)\n",
        "=======================================\n",
        "\n",
        "Example of Receiver Operating Characteristic (ROC) metric to evaluate\n",
        "classifier output quality.\n",
        "\n",
        "ROC curves typically feature true positive rate on the Y axis, and false\n",
        "positive rate on the X axis. This means that the top left corner of the plot is\n",
        "the \"ideal\" point - a false positive rate of zero, and a true positive rate of\n",
        "one. This is not very realistic, but it does mean that a larger area under the\n",
        "curve (AUC) is usually better.\n",
        "\n",
        "The \"steepness\" of ROC curves is also important, since it is ideal to maximize\n",
        "the true positive rate while minimizing the false positive rate.\n",
        "\n",
        "ROC curves are typically used in binary classification to study the output of\n",
        "a classifier. In order to extend ROC curve and ROC area to multi-class\n",
        "or multi-label classification, it is necessary to binarize the output. One ROC\n",
        "curve can be drawn per label, but one can also draw a ROC curve by considering\n",
        "each element of the label indicator matrix as a binary prediction\n",
        "(micro-averaging).\n",
        "\n",
        ".. note::\n",
        "\n",
        "    See also :func:`sklearn.metrics.roc_auc_score`,\n",
        "             :ref:`example_plot_roc_crossval.py`.\n",
        "\n",
        "\n"
       ]
      }
     ],
     "prompt_number": 11
    },
    {
     "cell_type": "code",
     "collapsed": false,
     "input": [
      "if 1:\n",
      "    # Import some data to play with\n",
      "    iris = datasets.load_iris()\n",
      "    X = iris.data\n",
      "    y = iris.target\n",
      "\n",
      "    clf = svm.SVC(kernel='linear', probability=True )\n",
      "    # clf = svm.SVC(kernel='rbf', probability=True )\n",
      "\n",
      "    roc( X, y, clf, cname=\"roc\" )\n",
      "    roc( X, y, clf )"
     ],
     "language": "python",
     "metadata": {},
     "outputs": [],
     "prompt_number": 10
    },
    {
     "cell_type": "code",
     "collapsed": false,
     "input": [
      "if 1:\n",
      "    # Import some data to play with\n",
      "    iris = datasets.load_iris()\n",
      "    X = iris.data\n",
      "    y = iris.target\n",
      "\n",
      "    clf = svm.SVC(kernel='linear', probability=True )\n",
      "    # clf = svm.SVC(kernel='rbf', probability=True )\n",
      "\n",
      "    roc( X, y, clf, cname=\"roc\" )\n",
      "    roc( X, y, clf )"
     ],
     "language": "python",
     "metadata": {},
     "outputs": [],
     "prompt_number": 12
    },
    {
     "cell_type": "code",
     "collapsed": false,
     "input": [
      "print(__doc__)\n",
      "\n",
      "# Author: Fabian Pedregosa <fabian.pedregosa@inria.fr>\n",
      "#         Alexandre Gramfort <alexandre.gramfort@inria.fr>\n",
      "# License: BSD 3 clause\n",
      "\n",
      "import numpy as np\n",
      "import matplotlib.pyplot as plt\n",
      "\n",
      "from sklearn import linear_model\n",
      "from sklearn import datasets\n",
      "\n",
      "diabetes = datasets.load_diabetes()\n",
      "X = diabetes.data\n",
      "y = diabetes.target\n",
      "\n",
      "print(\"Computing regularization path using the LARS ...\")\n",
      "alphas, _, coefs = linear_model.lars_path(X, y, method='lasso', verbose=True)\n",
      "\n",
      "xx = np.sum(np.abs(coefs.T), axis=1)\n",
      "xx /= xx[-1]\n",
      "\n",
      "plt.plot(xx, coefs.T)\n",
      "ymin, ymax = plt.ylim()\n",
      "plt.vlines(xx, ymin, ymax, linestyle='dashed')\n",
      "plt.xlabel('|coef| / max|coef|')\n",
      "plt.ylabel('Coefficients')\n",
      "plt.title('LASSO Path')\n",
      "plt.axis('tight')\n",
      "plt.show()"
     ],
     "language": "python",
     "metadata": {},
     "outputs": [
      {
       "output_type": "stream",
       "stream": "stdout",
       "text": [
        "\n",
        "=======================================\n",
        "Receiver Operating Characteristic (ROC)\n",
        "=======================================\n",
        "\n",
        "Example of Receiver Operating Characteristic (ROC) metric to evaluate\n",
        "classifier output quality.\n",
        "\n",
        "ROC curves typically feature true positive rate on the Y axis, and false\n",
        "positive rate on the X axis. This means that the top left corner of the plot is\n",
        "the \"ideal\" point - a false positive rate of zero, and a true positive rate of\n",
        "one. This is not very realistic, but it does mean that a larger area under the\n",
        "curve (AUC) is usually better.\n",
        "\n",
        "The \"steepness\" of ROC curves is also important, since it is ideal to maximize\n",
        "the true positive rate while minimizing the false positive rate.\n",
        "\n",
        "ROC curves are typically used in binary classification to study the output of\n",
        "a classifier. In order to extend ROC curve and ROC area to multi-class\n",
        "or multi-label classification, it is necessary to binarize the output. One ROC\n",
        "curve can be drawn per label, but one can also draw a ROC curve by considering\n",
        "each element of the label indicator matrix as a binary prediction\n",
        "(micro-averaging).\n",
        "\n",
        ".. note::\n",
        "\n",
        "    See also :func:`sklearn.metrics.roc_auc_score`,\n",
        "             :ref:`example_plot_roc_crossval.py`.\n",
        "\n",
        "\n",
        "Computing regularization path using the LARS ..."
       ]
      },
      {
       "output_type": "stream",
       "stream": "stdout",
       "text": [
        "\n",
        "."
       ]
      }
     ]
    },
    {
     "cell_type": "code",
     "collapsed": false,
     "input": [
      "print(__doc__)\n",
      "\n",
      "# Author: Fabian Pedregosa <fabian.pedregosa@inria.fr>\n",
      "#         Alexandre Gramfort <alexandre.gramfort@inria.fr>\n",
      "# License: BSD 3 clause\n",
      "\n",
      "import numpy as np\n",
      "import matplotlib.pyplot as plt\n",
      "\n",
      "from sklearn import linear_model\n",
      "from sklearn import datasets\n",
      "\n",
      "diabetes = datasets.load_diabetes()\n",
      "X = diabetes.data\n",
      "y = diabetes.target\n",
      "\n",
      "print(\"Computing regularization path using the LARS ...\")\n",
      "alphas, _, coefs = linear_model.lars_path(X, y, method='lasso', verbose=True)\n",
      "\n",
      "xx = np.sum(np.abs(coefs.T), axis=1)\n",
      "xx /= xx[-1]\n",
      "\n",
      "plt.plot(xx, coefs.T)\n",
      "ymin, ymax = plt.ylim()\n",
      "plt.vlines(xx, ymin, ymax, linestyle='dashed')\n",
      "plt.xlabel('|coef| / max|coef|')\n",
      "plt.ylabel('Coefficients')\n",
      "plt.title('LASSO Path')\n",
      "plt.axis('tight')\n",
      "plt.show()"
     ],
     "language": "python",
     "metadata": {},
     "outputs": [
      {
       "output_type": "stream",
       "stream": "stdout",
       "text": [
        "Automatically created module for IPython interactive environment\n",
        "Computing regularization path using the LARS ..."
       ]
      },
      {
       "output_type": "stream",
       "stream": "stdout",
       "text": [
        "\n",
        "."
       ]
      }
     ]
    },
    {
     "cell_type": "code",
     "collapsed": false,
     "input": [
      "print(__doc__)\n",
      "\n",
      "# Author: Fabian Pedregosa <fabian.pedregosa@inria.fr>\n",
      "#         Alexandre Gramfort <alexandre.gramfort@inria.fr>\n",
      "# License: BSD 3 clause\n",
      "\n",
      "import numpy as np\n",
      "import matplotlib.pyplot as plt\n",
      "\n",
      "from sklearn import linear_model\n",
      "from sklearn import datasets\n",
      "\n",
      "diabetes = datasets.load_diabetes()\n",
      "X = diabetes.data\n",
      "y = diabetes.target\n",
      "\n",
      "print(\"Computing regularization path using the LARS ...\")\n",
      "alphas, _, coefs = linear_model.lars_path(X, y, method='lasso', verbose=True)\n",
      "\n",
      "xx = np.sum(np.abs(coefs.T), axis=1)\n",
      "xx /= xx[-1]\n",
      "\n",
      "plt.plot(xx, coefs.T)\n",
      "ymin, ymax = plt.ylim()\n",
      "plt.vlines(xx, ymin, ymax, linestyle='dashed')\n",
      "plt.xlabel('|coef| / max|coef|')\n",
      "plt.ylabel('Coefficients')\n",
      "plt.title('LASSO Path')\n",
      "plt.axis('tight')\n",
      "plt.show()\n"
     ],
     "language": "python",
     "metadata": {},
     "outputs": []
    },
    {
     "cell_type": "code",
     "collapsed": false,
     "input": [
      "def a():\n",
      "    print 1\n",
      "a()\n",
      "    "
     ],
     "language": "python",
     "metadata": {},
     "outputs": []
    },
    {
     "cell_type": "code",
     "collapsed": false,
     "input": [
      "a()"
     ],
     "language": "python",
     "metadata": {},
     "outputs": []
    },
    {
     "cell_type": "code",
     "collapsed": false,
     "input": [
      "b()"
     ],
     "language": "python",
     "metadata": {},
     "outputs": []
    },
    {
     "cell_type": "code",
     "collapsed": false,
     "input": [
      "def a():\n",
      "    print 1\n",
      "a()"
     ],
     "language": "python",
     "metadata": {},
     "outputs": []
    },
    {
     "cell_type": "code",
     "collapsed": false,
     "input": [
      "def b():\n",
      "    print 'hello'\n",
      "b()"
     ],
     "language": "python",
     "metadata": {},
     "outputs": []
    },
    {
     "cell_type": "code",
     "collapsed": false,
     "input": [
      "def c():\n",
      "    b()\n",
      "    a()"
     ],
     "language": "python",
     "metadata": {},
     "outputs": []
    },
    {
     "cell_type": "code",
     "collapsed": false,
     "input": [
      "c()"
     ],
     "language": "python",
     "metadata": {},
     "outputs": []
    },
    {
     "cell_type": "code",
     "collapsed": false,
     "input": [
      "from IPython.display import HTML\n",
      "HTML('<iframe src=http://ipython.org/index.html width=1024 height=350></iframe>')"
     ],
     "language": "python",
     "metadata": {},
     "outputs": [
      {
       "html": [
        "<iframe src=http://ipython.org/index.html width=1024 height=350></iframe>"
       ],
       "metadata": {},
       "output_type": "pyout",
       "prompt_number": 6,
       "text": [
        "<IPython.core.display.HTML at 0xac37edec>"
       ]
      }
     ],
     "prompt_number": 6
    },
    {
     "cell_type": "code",
     "collapsed": false,
     "input": [
      "from IPython.display import HTML\n",
      "S = HTML('<iframe src=http://ipython.org/index.html width=1024 height=350></iframe>')"
     ],
     "language": "python",
     "metadata": {},
     "outputs": [],
     "prompt_number": 7
    },
    {
     "cell_type": "code",
     "collapsed": false,
     "input": [
      "S\n"
     ],
     "language": "python",
     "metadata": {},
     "outputs": [
      {
       "html": [
        "<iframe src=http://ipython.org/index.html width=1024 height=350></iframe>"
       ],
       "metadata": {},
       "output_type": "pyout",
       "prompt_number": 8,
       "text": [
        "<IPython.core.display.HTML at 0xac37ed6c>"
       ]
      }
     ],
     "prompt_number": 8
    },
    {
     "cell_type": "code",
     "collapsed": false,
     "input": [],
     "language": "python",
     "metadata": {},
     "outputs": []
    }
   ],
   "metadata": {}
  }
 ]
}